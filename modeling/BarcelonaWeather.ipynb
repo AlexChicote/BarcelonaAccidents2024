{
 "cells": [
  {
   "cell_type": "code",
   "execution_count": 123,
   "metadata": {},
   "outputs": [
    {
     "name": "stdout",
     "output_type": "stream",
     "text": [
      "The autoreload extension is already loaded. To reload it, use:\n",
      "  %reload_ext autoreload\n",
      "DONE\n",
      "Done with 2010\n",
      "Done with 2011\n",
      "Done with 2012\n",
      "Done with 2013\n",
      "Done with 2014\n",
      "Done with 2015\n",
      "Done with 2016\n",
      "Done with 2017\n",
      "Done with 2018\n",
      "Done with 2019\n",
      "Done with 2020\n",
      "Done with 2021\n",
      "Done with 2022\n",
      "Done with 2023\n"
     ]
    }
   ],
   "source": [
    "import time\n",
    "import requests\n",
    "import pandas as pd\n",
    "import datetime\n",
    "import os\n",
    "from barcelona_keys import key as weather_key\n",
    "from functions_barcelona import scraping_weather, creating_datetime, creating_yearly_weather, mes_english_number\n",
    "%load_ext autoreload\n",
    "%reload_ext autoreload\n",
    "%autoreload 2\n",
    "print('DONE')\n",
    "\n",
    "pathname='./data/weather/'\n",
    "\n",
    "renaming_columns={'PeríodeTU':'period_UT',\n",
    "                  'TM°C':'temp_avg',\n",
    "                  'TX°C':'temp_max',\n",
    "                  'TN°C':'temp_min',\n",
    "                  'HRM%': 'relative_humidity',\n",
    "                  'PPTmm':'precipitation',\n",
    "                  'VVM (10 m)km/h': 'windspeed',\n",
    "                   'DVM (10 m)graus': 'wind_direction',\n",
    "                  'VVX (10 m)km/h' : 'max_windspeed',\n",
    "                  'PMhPa': 'pressure',\n",
    "                  'RSW/m2':'solar_radiation'}\n",
    "\n",
    "\n",
    "\n",
    "# Bunch of years\n",
    "first_year=2010\n",
    "last_year=2023\n",
    "for year in range(first_year,last_year+1):\n",
    "    creating_yearly_weather(year,pathname)\n",
    "\n",
    "##pending to convert to Europe/Brussels. Everything is in UT time up until I join it with accidents\n",
    "##AT that point I will convert it doing:#df['datetime']=df['datetime'].dt.tz_localize('utc').dt.tz_convert('Europe/Brussels')"
   ]
  },
  {
   "cell_type": "code",
   "execution_count": 124,
   "metadata": {},
   "outputs": [
    {
     "name": "stdout",
     "output_type": "stream",
     "text": [
      "NULLS:  1008\n",
      "NULLS:  0\n"
     ]
    }
   ],
   "source": [
    "#Puttin togetheraccidents and weather\n",
    "total_weather=pd.read_csv('./data/weather/weatherfinal.csv',low_memory=False)\n",
    "total_weather.drop('index',axis=1,inplace=True)\n",
    "\n",
    "def fixing_datetime_format(row):\n",
    "    '''Form some reason, datetime for some year is in utc format while the rest are not'''\n",
    "    return row['datetime'][:19]\n",
    "\n",
    "\n",
    "total_weather['datetime']=total_weather.apply(fixing_datetime_format,axis=1)\n",
    "total_weather['datetime']=pd.to_datetime(total_weather.datetime).dt.tz_localize('utc').dt.tz_convert('Europe/Brussels')\n",
    "#total_weather.interpolate(inplace=True)\n",
    "total_weather.head()\n",
    "print('NULLS: ',total_weather.isnull().sum().sum())\n",
    "total_weather.replace({'(s/d)':None},inplace=True)\n",
    "columns_w_nulls=list(total_weather.isnull().sum()[total_weather.isnull().sum()>0].index)\n",
    "for col in columns_w_nulls:\n",
    "    total_weather[col]=total_weather[col].astype(float).interpolate()\n",
    "print('NULLS: ',total_weather.isnull().sum().sum())\n",
    "acc=pd.read_csv('./data/accidents2023.csv')\n",
    "\n",
    "def creating_datetime(row):\n",
    "    return str(int(row['year']))+'-'+mes_english_number(row['month'])+'-'+str(int(row['day']))+' '+str(int(row['hour']))+':00:00'\n",
    "acc['datetime']=acc.apply(creating_datetime,axis=1)\n",
    "acc['datetime']=pd.to_datetime(acc.datetime).dt.tz_localize('utc').dt.tz_convert('Europe/Brussels')\n",
    "\n",
    "pd.merge(acc,total_weather,how='left',on='datetime').to_csv('./data/accidents_weather.csv',index=False)\n",
    "\n"
   ]
  }
 ],
 "metadata": {
  "kernelspec": {
   "display_name": "Python 3 (ipykernel)",
   "language": "python",
   "name": "python3"
  },
  "language_info": {
   "codemirror_mode": {
    "name": "ipython",
    "version": 3
   },
   "file_extension": ".py",
   "mimetype": "text/x-python",
   "name": "python",
   "nbconvert_exporter": "python",
   "pygments_lexer": "ipython3",
   "version": "3.11.8"
  }
 },
 "nbformat": 4,
 "nbformat_minor": 4
}
