{
 "cells": [
  {
   "cell_type": "code",
   "execution_count": 5,
   "id": "cc1247ff-4b4d-4cf6-9a2b-82cf976ab663",
   "metadata": {},
   "outputs": [
    {
     "name": "stdout",
     "output_type": "stream",
     "text": [
      "The autoreload extension is already loaded. To reload it, use:\n",
      "  %reload_ext autoreload\n"
     ]
    }
   ],
   "source": [
    "import pandas as pd\n",
    "import numpy as np\n",
    "import pickle\n",
    "import random\n",
    "\n",
    "##sklearn\n",
    "from sklearn.pipeline import Pipeline\n",
    "from sklearn.impute import SimpleImputer\n",
    "from sklearn.compose import ColumnTransformer\n",
    "from sklearn.preprocessing import MinMaxScaler,OrdinalEncoder,OneHotEncoder\n",
    "from sklearn.model_selection import train_test_split, GridSearchCV, StratifiedKFold\n",
    "from sklearn.metrics import accuracy_score, recall_score, precision_score, roc_auc_score\n",
    "\n",
    "from sklearn.linear_model import LogisticRegression\n",
    "\n",
    "from imblearn.over_sampling import RandomOverSampler\n",
    "from imblearn.pipeline import Pipeline as imbPipeline\n",
    "\n",
    "import python_files.functions_barcelona_2 as fb2\n",
    "\n",
    "%load_ext autoreload\n",
    "%autoreload 2\n",
    "\n",
    "with open('./data/model_charac.pkl','rb') as file:\n",
    "    model_dict=pickle.load(file)\n",
    "model_dict\n",
    "\n",
    "\n",
    "oversamplers=fb2.oversamplings\n",
    "undersamplers=fb2.undersamplings\n",
    "metrics=fb2.metrics\n",
    "model_dict['models']=fb2.models_dict\n",
    "model_dict['models']\n",
    "# model_dict['metrics']=[{'recall':recall_score}]\n",
    "model_dict['metrics']=metrics\n",
    "num_features=[col[0] for col in model_dict['numerical_features'].items() if col[1]>1]\n",
    "cat_features=[col[0] for col in model_dict['categorical_features'].items() if col[1]>1]\n",
    "acc=pd.read_csv('./data/accidents_weather_eng_2023.csv')"
   ]
  },
  {
   "cell_type": "code",
   "execution_count": 6,
   "id": "85ab3d01-e8aa-47ef-8441-2a64ad89efb5",
   "metadata": {},
   "outputs": [],
   "source": [
    "X=acc[num_features +cat_features]\n",
    "y=acc.target\n",
    "X_train, X_test, y_train, y_test = train_test_split(X,y,random_state=2024)"
   ]
  },
  {
   "cell_type": "code",
   "execution_count": 7,
   "id": "b437339c-090c-4efb-880d-7d210c02ecc3",
   "metadata": {},
   "outputs": [],
   "source": [
    "numeric_transformer = Pipeline(\n",
    "    steps=[(\"imputer\", SimpleImputer(strategy=\"median\")), (\"scaler\", MinMaxScaler())]\n",
    ")\n",
    "categorical_transformer = Pipeline(\n",
    "    steps=[\n",
    "        (\"encoder\", OneHotEncoder(handle_unknown=\"ignore\",drop='first'))\n",
    "    ]\n",
    ")\n",
    "preprocessor = ColumnTransformer(\n",
    "    transformers=[\n",
    "        (\"num\", numeric_transformer, num_features),\n",
    "        (\"cat\", categorical_transformer, cat_features),\n",
    "    ]\n",
    ")\n"
   ]
  },
  {
   "cell_type": "code",
   "execution_count": null,
   "id": "57df1598-f4bd-40bd-a637-a2fba6c42af1",
   "metadata": {},
   "outputs": [],
   "source": [
    "df_scores=pd.DataFrame()\n",
    "for key in model_dict['models'].keys():\n",
    "    #print(dicty['model'])\n",
    "    pipe = Pipeline(\n",
    "        steps=[(\"preprocessor\", preprocessor), (\"classifier\",model_dict['models'][key])])\n",
    "    pipe.fit(X_train,y_train)\n",
    "    preds=pipe.predict(X_test)\n",
    "    for met in model_dict['metrics'].keys():\n",
    "        if met !='precision':\n",
    "        #print(key, model_dict['metrics'][met](y_test,preds))\n",
    "            df_scores.loc[key,met]=model_dict['metrics'][met](y_test,preds)\n",
    "        else:\n",
    "            df_scores.loc[key,met]=precision_score(y_test,preds, zero_division=1)\n",
    "    \n",
    "df_scores"
   ]
  },
  {
   "cell_type": "code",
   "execution_count": null,
   "id": "b848a29d-a106-4e19-a882-83adf3aa4fc2",
   "metadata": {},
   "outputs": [],
   "source": [
    "#adding resampling\n",
    "df_scores_over=pd.DataFrame()\n",
    "for key in model_dict['models'].keys():\n",
    "    #print(dicty['model'])\n",
    "    for resampler in oversamplers.keys():\n",
    "        pipe = imbPipeline(\n",
    "            steps=[(\"preprocessor\", preprocessor),('resampler',oversamplers[resampler]),(\"classifier\",model_dict['models'][key])])\n",
    "        pipe.fit(X_train,y_train)\n",
    "        preds=pipe.predict(X_test)\n",
    "        print(key, resampler)\n",
    "        for met in model_dict['metrics'].keys():\n",
    "            if met !='precision':\n",
    "            #print(key, model_dict['metrics'][met](y_test,preds))\n",
    "                df_scores_over.loc[key+'_'+resampler,met]=model_dict['metrics'][met](y_test,preds)\n",
    "            else:\n",
    "                \n",
    "                df_scores_over.loc[key+'_'+resampler,met]=precision_score(y_test,preds, zero_division=1)\n",
    "    \n",
    "df_scores_over"
   ]
  },
  {
   "cell_type": "code",
   "execution_count": null,
   "id": "47dfb06f-2e36-47f6-8675-60b5a36447d3",
   "metadata": {},
   "outputs": [],
   "source": [
    "#adding resampling\n",
    "df_scores_under=pd.DataFrame()\n",
    "for key in model_dict['models'].keys():\n",
    "    #print(dicty['model'])\n",
    "    for resampler in undersamplers.keys():\n",
    "        pipe = imbPipeline(\n",
    "            steps=[(\"preprocessor\", preprocessor),('resampler',undersamplers[resampler]),(\"classifier\",model_dict['models'][key])])\n",
    "        pipe.fit(X_train,y_train)\n",
    "        preds=pipe.predict(X_test)\n",
    "        print(key, resampler)\n",
    "        for met in model_dict['metrics'].keys():\n",
    "            if met !='precision':\n",
    "            #print(key, model_dict['metrics'][met](y_test,preds))\n",
    "                df_scores_under.loc[key+'_'+resampler,met]=model_dict['metrics'][met](y_test,preds)\n",
    "            else:\n",
    "                \n",
    "                df_scores_under.loc[key+'_'+resampler,met]=precision_score(y_test,preds, zero_division=1)\n",
    "    \n",
    "df_scores_under"
   ]
  },
  {
   "cell_type": "code",
   "execution_count": null,
   "id": "0f534471-076a-488b-9269-4aad1c4fdfb6",
   "metadata": {},
   "outputs": [],
   "source": [
    "pd.concat([df_scores,df_scores_over,df_scores_under]).to_csv('df_results.csv')"
   ]
  },
  {
   "cell_type": "code",
   "execution_count": null,
   "id": "e049d621-c67e-456e-8304-14be49ce0feb",
   "metadata": {},
   "outputs": [],
   "source": [
    "import pandas as pd\n",
    "results=pd.read_csv('df_results.csv',index_col=[0])\n",
    "results.head()"
   ]
  },
  {
   "cell_type": "code",
   "execution_count": null,
   "id": "5683569e-11f1-4d3e-8f90-53e66bc81553",
   "metadata": {},
   "outputs": [],
   "source": [
    "results[results.accuracy>2/3].sort_values('recall',ascending=False).head()"
   ]
  },
  {
   "cell_type": "code",
   "execution_count": 7,
   "id": "e87bc1f0-6143-43d0-b6a9-b997e78fff36",
   "metadata": {},
   "outputs": [
    {
     "data": {
      "text/plain": [
       "['people_role_pedestrian',\n",
       " 'vehicle_motorcycle',\n",
       " 'driver_u_25_count',\n",
       " 'num_vehicles',\n",
       " 'gender_driver_male_count',\n",
       " 'vehicle_bus',\n",
       " 'street_name_count']"
      ]
     },
     "execution_count": 7,
     "metadata": {},
     "output_type": "execute_result"
    }
   ],
   "source": [
    "##going with logreg and REN or OSS\n",
    "num_features=[col[0] for col in model_dict['numerical_features'].items() if col[1]>1]\n",
    "cat_features=[col[0] for col in model_dict['categorical_features'].items() if col[1]>1]\n",
    "num_features"
   ]
  },
  {
   "cell_type": "code",
   "execution_count": 8,
   "id": "20a57a38-8b9a-453d-85bb-565a2627b03f",
   "metadata": {},
   "outputs": [],
   "source": [
    "X=acc[num_features +cat_features]\n",
    "y=acc.target\n",
    "X_train, X_test, y_train, y_test = train_test_split(X,y,random_state=2024)"
   ]
  },
  {
   "cell_type": "code",
   "execution_count": 20,
   "id": "d873e5d3-a563-4281-97bd-50ec74e47629",
   "metadata": {},
   "outputs": [
    {
     "data": {
      "text/plain": [
       "(0.7078651685393258, 0.7005604990658348)"
      ]
     },
     "execution_count": 20,
     "metadata": {},
     "output_type": "execute_result"
    }
   ],
   "source": [
    "num_features=[col[0] for col in model_dict['numerical_features'].items() if col[1]>1]\n",
    "cat_features=[col[0] for col in model_dict['categorical_features'].items() if col[1]>1]\n",
    "\n",
    "X=acc[num_features +cat_features]\n",
    "y=acc.target\n",
    "X_train, X_test, y_train, y_test = train_test_split(X,y,random_state=2024)\n",
    "model=LogisticRegression(random_state=2024,class_weight='balanced',max_iter=500,solver='newton-cholesky',penalty=None)\n",
    "\n",
    "numeric_transformer = Pipeline(\n",
    "    steps=[(\"imputer\", SimpleImputer(strategy=\"median\")), (\"scaler\", MinMaxScaler())]\n",
    ")\n",
    "categorical_transformer = Pipeline(\n",
    "    steps=[\n",
    "        (\"encoder\", OneHotEncoder(handle_unknown=\"ignore\",drop='first'))\n",
    "    ]\n",
    ")\n",
    "preprocessor = ColumnTransformer(\n",
    "    transformers=[\n",
    "        (\"num\", numeric_transformer, num_features),\n",
    "        (\"cat\", categorical_transformer, cat_features),\n",
    "    ]\n",
    ")\n",
    "\n",
    "pipe = imbPipeline(\n",
    "            steps=[(\"preprocessor\", preprocessor),('resampler',undersamplers['OSS']),(\"classifier\",model_dict['models']['logreg'])])\n",
    "pipe.fit(X_train,y_train)\n",
    "preds=pipe.predict(X_test)\n",
    "recall=recall_score(y_test,preds)\n",
    "accuracy=accuracy_score(y_test,preds)\n",
    "recall, accuracy"
   ]
  },
  {
   "cell_type": "code",
   "execution_count": null,
   "id": "3a193fc9-eea5-43c0-9241-a998d05ce389",
   "metadata": {},
   "outputs": [],
   "source": [
    "num_features=[col[0] for col in model_dict['numerical_features'].items() if col[1]>1]\n",
    "cat_features=[col[0] for col in model_dict['categorical_features'].items() if col[1]>1]\n",
    "\n",
    "X=acc[num_features +cat_features]\n",
    "y=acc.target\n",
    "X_train, X_test, y_train, y_test = train_test_split(X,y,random_state=2024,stratify=y)\n",
    "pipe = imbPipeline(\n",
    "            steps=[(\"preprocessor\", preprocessor),('resampler',undersamplers['OSS']),(\"classifier\",LogisticRegression(random_state=2024,class_weight='balanced',max_iter=500))])\n",
    "strat=StratifiedKFold(n_splits=5,\n",
    "                     shuffle=True,\n",
    "                     random_state=2024)\n",
    "param_grid={'classifier__C': [1e6,1e9,1e12]}\n",
    "gs=GridSearchCV(pipe,\n",
    "               param_grid=param_grid,\n",
    "               scoring='recall',\n",
    "               cv=strat)\n",
    "gs.fit(X_train,y_train)"
   ]
  },
  {
   "cell_type": "code",
   "execution_count": 14,
   "id": "1d6a5b8d-ee20-4893-b21b-4e7e6e9d6584",
   "metadata": {},
   "outputs": [
    {
     "data": {
      "text/plain": [
       "array(['run_over', 'crash', 'frontal', 'collision', 'fall--motorcycle',\n",
       "       'fall_inside_vehicle', 'misc_type', 'overturning', 'run-off'],\n",
       "      dtype=object)"
      ]
     },
     "execution_count": 14,
     "metadata": {},
     "output_type": "execute_result"
    }
   ],
   "source": [
    "acc.accident_type.unique()"
   ]
  },
  {
   "cell_type": "code",
   "execution_count": 4,
   "id": "b877b641-a3d9-4b38-a032-d77b95ec3104",
   "metadata": {},
   "outputs": [],
   "source": [
    "numeric_transformer = Pipeline(\n",
    "    steps=[(\"imputer\", SimpleImputer(strategy=\"median\")), (\"scaler\", MinMaxScaler())]\n",
    ")\n",
    "categorical_transformer = Pipeline(\n",
    "    steps=[\n",
    "        (\"encoder\", OneHotEncoder(handle_unknown=\"ignore\",drop='first'))\n",
    "    ]\n",
    ")"
   ]
  },
  {
   "cell_type": "code",
   "execution_count": 15,
   "id": "af56a614-5d65-4dfa-a0b4-1d4bdf121fa6",
   "metadata": {},
   "outputs": [
    {
     "name": "stdout",
     "output_type": "stream",
     "text": [
      "1\n",
      "2\n",
      "3\n",
      "4\n",
      "5\n",
      "6\n",
      "7\n",
      "8\n",
      "9\n",
      "10\n",
      "11\n"
     ]
    },
    {
     "data": {
      "text/plain": [
       "[0.33754789272030655,\n",
       " 0.4652618135376757,\n",
       " 0.5334610472541507,\n",
       " 0.5389527458492975,\n",
       " 0.5883780332056194,\n",
       " 0.5936143039591315,\n",
       " 0.6108556832694764,\n",
       " 0.598595146871009,\n",
       " 0.5933588761174968,\n",
       " 0.6450830140485313,\n",
       " 0.6509578544061303]"
      ]
     },
     "execution_count": 15,
     "metadata": {},
     "output_type": "execute_result"
    }
   ],
   "source": [
    "accuracies=[]\n",
    "recalls=[]\n",
    "numerical_features=[col[0] for col in model_dict['numerical_features'].items() if col[1]>1]\n",
    "categorical_features=[col[0] for col in model_dict['categorical_features'].items() if col[1]>1]\n",
    "\n",
    "total_features=numerical_features+categorical_features\n",
    "for num in range(1,len(total_features)):\n",
    "    shift_recall=[]\n",
    "    shift_accuracy=[]\n",
    "    for tm in range(10):    \n",
    "        choices=random.sample(total_features,k=num)\n",
    "        \n",
    "        num_features=[col for col in choices if col in numerical_features]\n",
    "        cat_features=[col for col in choices if col in categorical_features]\n",
    "        X_train,X_test,y_train,y_test=train_test_split(acc[choices],acc.target,random_state=2024,stratify=acc.target)\n",
    "        preprocessor = ColumnTransformer(\n",
    "            transformers=[\n",
    "                (\"num\", numeric_transformer, num_features),\n",
    "                (\"cat\", categorical_transformer, cat_features),\n",
    "            ]\n",
    "        )\n",
    "        \n",
    "        \n",
    "\n",
    "        pipe = imbPipeline(\n",
    "            steps=[(\"preprocessor\", preprocessor),('resampler',undersamplers['OSS']),(\"classifier\",model_dict['models']['logreg'])])\n",
    "        pipe.fit(X_train,y_train)\n",
    "        preds=pipe.predict(X_test)\n",
    "        shift_recall.append(recall_score(y_test,preds))\n",
    "        shift_accuracy.append(accuracy_score(y_test,preds))\n",
    "    print(num)\n",
    "    accuracies.append(sum(shift_accuracy)/len(shift_accuracy))\n",
    "    recalls.append(sum(shift_recall)/len(shift_recall))\n",
    "        \n",
    "recalls"
   ]
  },
  {
   "cell_type": "code",
   "execution_count": 6,
   "id": "82a9fa17-3be9-4f57-82e6-0f8408108a5e",
   "metadata": {},
   "outputs": [
    {
     "data": {
      "text/plain": [
       "[0.3478075776926352,\n",
       " 0.6334610472541508,\n",
       " 0.44870157513835673,\n",
       " 0.5061728395061729,\n",
       " 0.6266496381438911,\n",
       " 0.6206896551724138,\n",
       " 0.5913154533844188,\n",
       " 0.604512558535547,\n",
       " 0.6492124308216262,\n",
       " 0.6479352916134525,\n",
       " 0.6419753086419753]"
      ]
     },
     "execution_count": 6,
     "metadata": {},
     "output_type": "execute_result"
    }
   ],
   "source": [
    "recalls"
   ]
  },
  {
   "cell_type": "code",
   "execution_count": 11,
   "id": "9c765998-6f4a-42cf-98a1-c7f89de4727c",
   "metadata": {},
   "outputs": [
    {
     "data": {
      "text/plain": [
       "12"
      ]
     },
     "execution_count": 11,
     "metadata": {},
     "output_type": "execute_result"
    }
   ],
   "source": [
    "len(total_features)"
   ]
  },
  {
   "cell_type": "code",
   "execution_count": null,
   "id": "ec613897-7bb7-42ae-bcbe-3843c0af293c",
   "metadata": {},
   "outputs": [],
   "source": []
  }
 ],
 "metadata": {
  "kernelspec": {
   "display_name": "Python 3 (ipykernel)",
   "language": "python",
   "name": "python3"
  },
  "language_info": {
   "codemirror_mode": {
    "name": "ipython",
    "version": 3
   },
   "file_extension": ".py",
   "mimetype": "text/x-python",
   "name": "python",
   "nbconvert_exporter": "python",
   "pygments_lexer": "ipython3",
   "version": "3.11.8"
  }
 },
 "nbformat": 4,
 "nbformat_minor": 5
}
