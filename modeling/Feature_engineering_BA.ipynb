{
 "cells": [
  {
   "cell_type": "code",
   "execution_count": 1,
   "id": "a12da8fa-2631-4841-81b5-a14c582fa897",
   "metadata": {},
   "outputs": [],
   "source": [
    "import pandas as pd\n",
    "# import functions_barcelona as fb\n",
    "import datetime\n",
    "# !pip install holidays_es\n",
    "try:\n",
    "    from holidays_es import Province\n",
    "    festes=True\n",
    "except:\n",
    "    festes=False\n",
    "    \n",
    "# import numpy as np\n",
    "# import os\n",
    "\n",
    "# from sklearn.metrics import recall_score, precision_score, accuracy_score, roc_auc_score\n",
    "# from sklearn.model_selection import KFold, cross_val_score, cross_validate, StratifiedKFold\n",
    "# from sklearn.ensemble import RandomForestClassifier, GradientBoostingClassifier, ExtraTreesClassifier\n",
    "# from sklearn.linear_model import LogisticRegression\n",
    "# from sklearn.neighbors import KNeighborsClassifier\n",
    "# from sklearn.discriminant_analysis import LinearDiscriminantAnalysis\n",
    "# from sklearn.naive_bayes import GaussianNB\n",
    "# from sklearn.svm import LinearSVC\n",
    "# from sklearn.preprocessing import MinMaxScaler, StandardScaler,Normalizer\n",
    "# from xgboost import XGBClassifier\n",
    "\n",
    "# # from imblearn.over_sampling import SMOTE, ADASYN, RandomOverSampler\n",
    "# # from imblearn.under_sampling import RandomUnderSampler, NearMiss\n",
    "# from sklearn.dummy import DummyClassifier\n",
    "# import imblearn.under_sampling as under\n",
    "# import imblearn.over_sampling as over\n",
    "# import imblearn.combine as over_under\n",
    "# from imblearn.pipeline import Pipeline, make_pipeline"
   ]
  },
  {
   "cell_type": "code",
   "execution_count": 2,
   "id": "4fdec6d8-80a6-4f33-b1fc-4a568b3a7a6f",
   "metadata": {},
   "outputs": [
    {
     "data": {
      "text/html": [
       "<div>\n",
       "<style scoped>\n",
       "    .dataframe tbody tr th:only-of-type {\n",
       "        vertical-align: middle;\n",
       "    }\n",
       "\n",
       "    .dataframe tbody tr th {\n",
       "        vertical-align: top;\n",
       "    }\n",
       "\n",
       "    .dataframe thead th {\n",
       "        text-align: right;\n",
       "    }\n",
       "</style>\n",
       "<table border=\"1\" class=\"dataframe\">\n",
       "  <thead>\n",
       "    <tr style=\"text-align: right;\">\n",
       "      <th></th>\n",
       "      <th>num_incident</th>\n",
       "      <th>district_code</th>\n",
       "      <th>district</th>\n",
       "      <th>neighborhood</th>\n",
       "      <th>street_name</th>\n",
       "      <th>weekday</th>\n",
       "      <th>year</th>\n",
       "      <th>month</th>\n",
       "      <th>day</th>\n",
       "      <th>hour</th>\n",
       "      <th>...</th>\n",
       "      <th>temp_avg</th>\n",
       "      <th>temp_max</th>\n",
       "      <th>temp_min</th>\n",
       "      <th>relative_humidity</th>\n",
       "      <th>precipitation</th>\n",
       "      <th>windspeed</th>\n",
       "      <th>wind_direction</th>\n",
       "      <th>max_windspeed</th>\n",
       "      <th>pressure</th>\n",
       "      <th>solar_radiation</th>\n",
       "    </tr>\n",
       "  </thead>\n",
       "  <tbody>\n",
       "    <tr>\n",
       "      <th>0</th>\n",
       "      <td>2023S000001</td>\n",
       "      <td>3</td>\n",
       "      <td>Sants-Montjuïc</td>\n",
       "      <td>Sants</td>\n",
       "      <td>Badal / Càceres</td>\n",
       "      <td>Sunday</td>\n",
       "      <td>2023</td>\n",
       "      <td>January</td>\n",
       "      <td>1</td>\n",
       "      <td>10</td>\n",
       "      <td>...</td>\n",
       "      <td>11.9</td>\n",
       "      <td>12.2</td>\n",
       "      <td>11.4</td>\n",
       "      <td>94.0</td>\n",
       "      <td>0.0</td>\n",
       "      <td>7.2</td>\n",
       "      <td>227.0</td>\n",
       "      <td>11.5</td>\n",
       "      <td>1027.1</td>\n",
       "      <td>315.0</td>\n",
       "    </tr>\n",
       "    <tr>\n",
       "      <th>1</th>\n",
       "      <td>2023S000002</td>\n",
       "      <td>7</td>\n",
       "      <td>Horta-Guinardó</td>\n",
       "      <td>el Baix Guinardó</td>\n",
       "      <td>Encarnació</td>\n",
       "      <td>Sunday</td>\n",
       "      <td>2023</td>\n",
       "      <td>January</td>\n",
       "      <td>1</td>\n",
       "      <td>3</td>\n",
       "      <td>...</td>\n",
       "      <td>14.2</td>\n",
       "      <td>14.7</td>\n",
       "      <td>13.5</td>\n",
       "      <td>58.0</td>\n",
       "      <td>0.0</td>\n",
       "      <td>8.3</td>\n",
       "      <td>257.0</td>\n",
       "      <td>13.7</td>\n",
       "      <td>1025.4</td>\n",
       "      <td>0.0</td>\n",
       "    </tr>\n",
       "    <tr>\n",
       "      <th>2</th>\n",
       "      <td>2023S000003</td>\n",
       "      <td>1</td>\n",
       "      <td>Ciutat Vella</td>\n",
       "      <td>el Raval</td>\n",
       "      <td>Carme</td>\n",
       "      <td>Sunday</td>\n",
       "      <td>2023</td>\n",
       "      <td>January</td>\n",
       "      <td>1</td>\n",
       "      <td>3</td>\n",
       "      <td>...</td>\n",
       "      <td>14.2</td>\n",
       "      <td>14.7</td>\n",
       "      <td>13.5</td>\n",
       "      <td>58.0</td>\n",
       "      <td>0.0</td>\n",
       "      <td>8.3</td>\n",
       "      <td>257.0</td>\n",
       "      <td>13.7</td>\n",
       "      <td>1025.4</td>\n",
       "      <td>0.0</td>\n",
       "    </tr>\n",
       "    <tr>\n",
       "      <th>3</th>\n",
       "      <td>2023S000005</td>\n",
       "      <td>6</td>\n",
       "      <td>Gràcia</td>\n",
       "      <td>la Vila de Gràcia</td>\n",
       "      <td>Riera de Sant Miquel / Sèneca</td>\n",
       "      <td>Sunday</td>\n",
       "      <td>2023</td>\n",
       "      <td>January</td>\n",
       "      <td>1</td>\n",
       "      <td>17</td>\n",
       "      <td>...</td>\n",
       "      <td>12.8</td>\n",
       "      <td>13.0</td>\n",
       "      <td>12.6</td>\n",
       "      <td>53.0</td>\n",
       "      <td>0.0</td>\n",
       "      <td>4.3</td>\n",
       "      <td>229.0</td>\n",
       "      <td>10.4</td>\n",
       "      <td>1025.1</td>\n",
       "      <td>0.0</td>\n",
       "    </tr>\n",
       "    <tr>\n",
       "      <th>4</th>\n",
       "      <td>2023S000006</td>\n",
       "      <td>6</td>\n",
       "      <td>Gràcia</td>\n",
       "      <td>la Vila de Gràcia</td>\n",
       "      <td>Gran de Gràcia / Gràcia</td>\n",
       "      <td>Sunday</td>\n",
       "      <td>2023</td>\n",
       "      <td>January</td>\n",
       "      <td>1</td>\n",
       "      <td>17</td>\n",
       "      <td>...</td>\n",
       "      <td>12.8</td>\n",
       "      <td>13.0</td>\n",
       "      <td>12.6</td>\n",
       "      <td>53.0</td>\n",
       "      <td>0.0</td>\n",
       "      <td>4.3</td>\n",
       "      <td>229.0</td>\n",
       "      <td>10.4</td>\n",
       "      <td>1025.1</td>\n",
       "      <td>0.0</td>\n",
       "    </tr>\n",
       "  </tbody>\n",
       "</table>\n",
       "<p>5 rows × 53 columns</p>\n",
       "</div>"
      ],
      "text/plain": [
       "  num_incident  district_code        district       neighborhood  \\\n",
       "0  2023S000001              3  Sants-Montjuïc              Sants   \n",
       "1  2023S000002              7  Horta-Guinardó   el Baix Guinardó   \n",
       "2  2023S000003              1    Ciutat Vella           el Raval   \n",
       "3  2023S000005              6          Gràcia  la Vila de Gràcia   \n",
       "4  2023S000006              6          Gràcia  la Vila de Gràcia   \n",
       "\n",
       "                     street_name weekday  year    month  day  hour  ...  \\\n",
       "0                Badal / Càceres  Sunday  2023  January    1    10  ...   \n",
       "1                     Encarnació  Sunday  2023  January    1     3  ...   \n",
       "2                          Carme  Sunday  2023  January    1     3  ...   \n",
       "3  Riera de Sant Miquel / Sèneca  Sunday  2023  January    1    17  ...   \n",
       "4        Gran de Gràcia / Gràcia  Sunday  2023  January    1    17  ...   \n",
       "\n",
       "  temp_avg  temp_max  temp_min  relative_humidity  precipitation  windspeed  \\\n",
       "0     11.9      12.2      11.4               94.0            0.0        7.2   \n",
       "1     14.2      14.7      13.5               58.0            0.0        8.3   \n",
       "2     14.2      14.7      13.5               58.0            0.0        8.3   \n",
       "3     12.8      13.0      12.6               53.0            0.0        4.3   \n",
       "4     12.8      13.0      12.6               53.0            0.0        4.3   \n",
       "\n",
       "  wind_direction max_windspeed pressure  solar_radiation  \n",
       "0          227.0          11.5   1027.1            315.0  \n",
       "1          257.0          13.7   1025.4              0.0  \n",
       "2          257.0          13.7   1025.4              0.0  \n",
       "3          229.0          10.4   1025.1              0.0  \n",
       "4          229.0          10.4   1025.1              0.0  \n",
       "\n",
       "[5 rows x 53 columns]"
      ]
     },
     "execution_count": 2,
     "metadata": {},
     "output_type": "execute_result"
    }
   ],
   "source": [
    "accidents=pd.read_csv('./data/accidents_weather.csv')#,date_format='%Y/%m/%d %H:%M:%S%z')\n",
    "accidents['datetime']=pd.to_datetime(accidents.datetime, utc=True)\n",
    "#fixing street names\n",
    "accidents['street_name']=accidents.street_name.str.strip()\n",
    "#casting some columns to int\n",
    "for col in ['year','day','hour']:\n",
    "    accidents[col]=accidents[col].astype(int)\n",
    "accidents.head()"
   ]
  },
  {
   "cell_type": "markdown",
   "id": "feb178f6-8fb1-4961-ae23-4b85949ef5ed",
   "metadata": {},
   "source": [
    "<a id='start'></a>\n",
    "# Feature Engineering\n",
    " 1. [**Binning streets and neighborhoods and creating a count of accidents.**](#binning) We should be careful with this one. I created a function that does the count with the train and applies it to the test. I have assumed that 2022 and 2023 are the test. I have done the count (street_count) and made 5 bins (street_bins). The same applies to neighborhoods.\n",
    " 2. [**Creating a holiday column.**](#holidays) Assign 1 if holiday, 0 if previoous to holiday and -1 if non a holiday\n",
    " 3. [**Identifying crossroads.**](#crossroads) It might be interesting evaluate if the fact of the accident taking place in a cross road is relevant."
   ]
  },
  {
   "cell_type": "markdown",
   "id": "7ee0c667-ed01-482f-88d4-aef7021c2392",
   "metadata": {},
   "source": [
    "<a id='binning'></a>\n",
    "## 1. **Binning streets and neighborhoods and creating a count of accidents**.\n",
    "\n",
    "   \n",
    "[Back](#start)"
   ]
  },
  {
   "cell_type": "code",
   "execution_count": 3,
   "id": "9f808a10-fdb7-4dd9-b20f-1f287664f494",
   "metadata": {},
   "outputs": [],
   "source": [
    "def binning_fields(df,field, last_year_train,num_bins=5):\n",
    "    \"\"\"binning the streets for train and adding it\n",
    "    without leakage to test\"\"\"\n",
    "    train=df[df.year<=last_year_train]\n",
    "    df[field +'_bins']=pd.qcut(\n",
    "    df[field].map(\n",
    "        train[field].value_counts().to_dict()),\n",
    "                                  num_bins,\n",
    "                                  labels=False)\n",
    "    df[field+'_count']=df[field].map(train[field].value_counts().to_dict())\n",
    "    df[field+'_count'].fillna(0,inplace=True)\n",
    "    df[field +'_bins'].fillna(0,inplace=True)\n",
    "    return df\n",
    "accidents=binning_fields(accidents,'street_name',2021)"
   ]
  },
  {
   "cell_type": "code",
   "execution_count": 4,
   "id": "bfae947f-c03e-4026-9940-3c02fe023633",
   "metadata": {},
   "outputs": [
    {
     "data": {
      "text/plain": [
       "street_name\n",
       "Corts Catalanes        4893.0\n",
       "Diagonal               4101.0\n",
       "Aragó                  2509.0\n",
       "Litoral (Llobregat)    1872.0\n",
       "Meridiana              1828.0\n",
       "Dalt (Besòs)           1678.0\n",
       "Litoral (Besòs)        1470.0\n",
       "València               1457.0\n",
       "Dalt (Llobregat)       1327.0\n",
       "Gràcia                 1251.0\n",
       "Name: street_name_count, dtype: float64"
      ]
     },
     "execution_count": 4,
     "metadata": {},
     "output_type": "execute_result"
    }
   ],
   "source": [
    "accidents.groupby('street_name').street_name_count.mean().sort_values(ascending=False).iloc[:10]"
   ]
  },
  {
   "cell_type": "code",
   "execution_count": 5,
   "id": "e12625a6-fcfb-4324-9704-7788d05be1a9",
   "metadata": {},
   "outputs": [
    {
     "data": {
      "text/plain": [
       "street_name_bins\n",
       "0.0       4.901608\n",
       "1.0      41.970191\n",
       "2.0     202.893561\n",
       "3.0     659.870613\n",
       "4.0    2869.975588\n",
       "Name: street_name_count, dtype: float64"
      ]
     },
     "execution_count": 5,
     "metadata": {},
     "output_type": "execute_result"
    }
   ],
   "source": [
    "accidents.groupby('street_name_bins')['street_name_count'].mean()"
   ]
  },
  {
   "cell_type": "code",
   "execution_count": 6,
   "id": "d10e6193-f33b-4086-bde1-130f2d2f4c3e",
   "metadata": {},
   "outputs": [],
   "source": [
    "accidents=binning_fields(accidents,'neighborhood',2021,num_bins=3)"
   ]
  },
  {
   "cell_type": "code",
   "execution_count": 7,
   "id": "15c339b4-8e27-4fbc-af2e-8e6096db0524",
   "metadata": {},
   "outputs": [
    {
     "data": {
      "text/plain": [
       "neighborhood\n",
       "la Dreta de l'Eixample             12351.0\n",
       "l'Antiga Esquerra de l'Eixample     6071.0\n",
       "Sant Gervasi - Galvany              4631.0\n",
       "la Nova Esquerra de l'Eixample      4275.0\n",
       "la Sagrada Família                  3827.0\n",
       "Name: neighborhood_count, dtype: float64"
      ]
     },
     "execution_count": 7,
     "metadata": {},
     "output_type": "execute_result"
    }
   ],
   "source": [
    "accidents.groupby('neighborhood').neighborhood_count.mean().sort_values(ascending=False).iloc[:5]"
   ]
  },
  {
   "cell_type": "code",
   "execution_count": 8,
   "id": "4da27c14-2924-4430-94c1-2b813ac37633",
   "metadata": {},
   "outputs": [
    {
     "data": {
      "text/plain": [
       "neighborhood_bins\n",
       "0     994.460620\n",
       "1    2068.520171\n",
       "2    7371.466992\n",
       "Name: neighborhood_count, dtype: float64"
      ]
     },
     "execution_count": 8,
     "metadata": {},
     "output_type": "execute_result"
    }
   ],
   "source": [
    "accidents.groupby('neighborhood_bins')['neighborhood_count'].mean()"
   ]
  },
  {
   "cell_type": "markdown",
   "id": "58dc573d-3217-4d19-b66b-9d272c6dab65",
   "metadata": {},
   "source": [
    "<a id='holidays'></a>\n",
    "## 2. **Creating a holiday column.**\n",
    "\n",
    "   \n",
    "[Back](#start)"
   ]
  },
  {
   "cell_type": "code",
   "execution_count": 11,
   "id": "01fbfa1e-3327-4faa-9dd2-6e4f32769d4a",
   "metadata": {},
   "outputs": [],
   "source": [
    "from holidays_es import Province, Scope, HolidaySpain\n",
    "\n",
    "#Gathering all holidays either Spanish, Catalan or local from 2010 to 2024\n",
    "holidays_bcn=[]\n",
    "for year in range(2010,2024):\n",
    "    holidays=HolidaySpain(province=Province.BARCELONA,year=year)\n",
    "    for holiday in holidays.national:\n",
    "        holidays_bcn.append(holiday.date)\n",
    "        \n",
    "    for holiday in holidays.regional:\n",
    "        holidays_bcn.append(holiday.date)\n",
    "    for holiday in holidays.local:\n",
    "        holidays_bcn.append(holiday.date)\n",
    "#defining a function to determine if a given date (TimeStamp) is a holiday, holiday eve or none.\n",
    "def adding_holiday(date_time):\n",
    "    date_time=datetime.datetime.date(date_time)\n",
    "    if date_time in holidays_bcn:\n",
    "        return 1\n",
    "    elif date_time +datetime.timedelta(days=1) in holidays_bcn:\n",
    "        return 0\n",
    "    else:\n",
    "        return -1\n",
    "#generating the new column\n",
    "\n",
    "accidents['is_holiday']=accidents['datetime'].apply(adding_holiday).unique()"
   ]
  },
  {
   "cell_type": "markdown",
   "id": "c2dad583-6601-4114-b43b-843686190097",
   "metadata": {},
   "source": [
    "<a id='crossroads'></a>\n",
    "## 3. **Identifying accidents that occur in a crossing.**\n",
    "\n",
    "   \n",
    "[Back](#start)"
   ]
  },
  {
   "cell_type": "code",
   "execution_count": 37,
   "id": "19334c1b-c0d4-4e04-84ea-6864c780e66c",
   "metadata": {},
   "outputs": [],
   "source": [
    "#2. Identifying accidents that occur in a crossing\n",
    "accidents['crossing_street']=[1 if '/' in x else 0 for x in accidents.street_name]"
   ]
  },
  {
   "cell_type": "code",
   "execution_count": 38,
   "id": "efc0c911-1a7a-4a94-b540-8c3d92130269",
   "metadata": {},
   "outputs": [],
   "source": [
    "##Saving the file with new features\n",
    "accidents.to_csv('./data/accidents_weather_eng_2023.csv',index=False)"
   ]
  },
  {
   "cell_type": "code",
   "execution_count": null,
   "id": "4d84855f-e727-4fa4-8ce7-2bd7614f3bd3",
   "metadata": {},
   "outputs": [],
   "source": []
  }
 ],
 "metadata": {
  "kernelspec": {
   "display_name": "Python 3 (ipykernel)",
   "language": "python",
   "name": "python3"
  },
  "language_info": {
   "codemirror_mode": {
    "name": "ipython",
    "version": 3
   },
   "file_extension": ".py",
   "mimetype": "text/x-python",
   "name": "python",
   "nbconvert_exporter": "python",
   "pygments_lexer": "ipython3",
   "version": "3.11.8"
  }
 },
 "nbformat": 4,
 "nbformat_minor": 5
}
