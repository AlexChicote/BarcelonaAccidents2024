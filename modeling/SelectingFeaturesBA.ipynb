{
 "cells": [
  {
   "cell_type": "code",
   "execution_count": 1,
   "metadata": {},
   "outputs": [],
   "source": [
    "import warnings\n",
    "warnings.simplefilter(action='ignore', category=DeprecationWarning)\n",
    "\n",
    "import pandas as pd\n",
    "import numpy as np\n",
    "import pickle\n",
    "import time\n",
    "import random\n",
    "from collections import Counter\n",
    "\n",
    "from sklearn.linear_model import LogisticRegression\n",
    "\n",
    "from sklearn.model_selection import train_test_split\n",
    "from sklearn.feature_selection import SelectKBest,f_classif,chi2, mutual_info_classif, VarianceThreshold, RFE, SelectFromModel, SequentialFeatureSelector as SFS\n",
    "\n",
    "from sklearn.preprocessing import MinMaxScaler,OrdinalEncoder,OneHotEncoder,StandardScaler\n",
    "from sklearn.preprocessing import OrdinalEncoder\n",
    "from sklearn.ensemble import RandomForestClassifier#, GradientBoostingClassifier, ExtraTreesClassifier\n",
    "\n",
    "\n",
    "from sklearn.pipeline import Pipeline\n",
    "from sklearn.impute import SimpleImputer\n",
    "from sklearn.compose import ColumnTransformer\n",
    "\n",
    "from mlxtend.feature_selection import ExhaustiveFeatureSelector as EFS\n",
    "import matplotlib.pyplot as plt\n",
    "import python_files.functions_barcelona_Correlations as fb3\n",
    "\n",
    "%load_ext autoreload\n",
    "%autoreload 2"
   ]
  },
  {
   "cell_type": "code",
   "execution_count": 2,
   "metadata": {},
   "outputs": [
    {
     "data": {
      "text/plain": [
       "(15, 31, 53, 7)"
      ]
     },
     "execution_count": 2,
     "metadata": {},
     "output_type": "execute_result"
    }
   ],
   "source": [
    "accidents=pd.read_csv('./data/accidents_weather_eng_2023.csv')\n",
    "\n",
    "\n",
    "cat_columns=[]\n",
    "num_columns=[]\n",
    "to_drop=['index','num_incident', 'num_severly_injured','num_deaths',\\\n",
    "         'num_minorly_injured','num_victims','street_code', 'dates','datetimes','utm_x','utm_y','district_code']\n",
    "for col in accidents:\n",
    "    if 'Unnamed' in col:\n",
    "        accidents=accidents.drop(col,axis=1)\n",
    "for col in accidents.columns:\n",
    "    if col in to_drop:\n",
    "        accidents=accidents.drop(col,axis=1)\n",
    "    elif 'bins' in col:\n",
    "        cat_columns.append(col)\n",
    "    elif ('_color' in col) or ('_model' in col) or ('_brand_name' in col): \n",
    "        pass # Do no carry much information\n",
    "    elif ('vehicle_' in col) or ('people_role_' in col):\n",
    "        num_columns.append(col)\n",
    "    elif 'seniority' in col:\n",
    "        num_columns.append(col)\n",
    "    elif 'license' in col:\n",
    "        pass #license is discarded due to the fact that the information it provides is already \n",
    "        # contained in vehicles\n",
    "    elif col =='target':\n",
    "        pass\n",
    "    elif 'num' in col or '_count' in col:\n",
    "        num_columns.append(col)\n",
    "    elif accidents[col].nunique()<76:\n",
    "        cat_columns.append(col)\n",
    "    elif accidents[col].dtypes==float:\n",
    "        num_columns.append(col)\n",
    "len(cat_columns),len(num_columns),len(accidents.columns),len(accidents.columns)-len(cat_columns)-len(num_columns)"
   ]
  },
  {
   "cell_type": "code",
   "execution_count": 3,
   "metadata": {},
   "outputs": [
    {
     "data": {
      "text/plain": [
       "['district',\n",
       " 'neighborhood',\n",
       " 'weekday',\n",
       " 'year',\n",
       " 'month',\n",
       " 'day',\n",
       " 'hour',\n",
       " 'ped_cause',\n",
       " 'cause',\n",
       " 'age_bins',\n",
       " 'accident_type',\n",
       " 'street_name_bins',\n",
       " 'neighborhood_bins',\n",
       " 'is_holiday',\n",
       " 'crossing_street']"
      ]
     },
     "execution_count": 3,
     "metadata": {},
     "output_type": "execute_result"
    }
   ],
   "source": [
    "cat_columns"
   ]
  },
  {
   "cell_type": "code",
   "execution_count": 4,
   "metadata": {},
   "outputs": [
    {
     "name": "stdout",
     "output_type": "stream",
     "text": [
      "street_name object 9312\n",
      "vehicle_model object 70981\n",
      "vehicle_brand_name object 16576\n",
      "vehicle_color object 3838\n",
      "license object 1506\n",
      "datetime object 67652\n",
      "target int64 2\n"
     ]
    }
   ],
   "source": [
    "pending=[x for x in accidents.columns if x not in cat_columns+num_columns]\n",
    "for col in pending:\n",
    "    print(col,accidents[col].dtypes, accidents[col].nunique())"
   ]
  },
  {
   "cell_type": "markdown",
   "metadata": {},
   "source": [
    "<a id='start'></a>\n",
    "\n",
    "# Selecting Features:\n",
    "1. [**Numerical Features**.](#num_fea)\n",
    "    - [FILTER: Variance Threashold.](#num_vt) Univariate features are eliminated\n",
    "    - [FILTER: ANOVA](#anova)\n",
    "    - [FILTER: Pearson, Kendall, Spearman Correlation.](#num_corr)\n",
    "    - [FILTER: Information Gain.](#inf_gain)\n",
    "    - [WRAPPER: Recursive Feature Elimination.](#num_rfe)\n",
    "    - [EMBEDDED: RandomForestClassifier](#num_rf)\n",
    "    - [EMBEDDED: Lasso.](#num_lasso)\n",
    "3. [**Categorical Features**.](#cat_fea)\n",
    "    - [FILTER: Variance Threashold.](#cat_vt)\n",
    "    - [FILTER: Chi Square and Mutual Information](#chi_sq)\n",
    "    - [FILTER: Cramer's V, Theil's U Correlation.](#cat_corr)\n",
    "    - [FILTER: Mutual Information/Information Gain.](#mut_info)\n",
    "    - [WRAPPER: Recursive Feature Elimination.](#cat_rfe)\n",
    "    - [EMBEDDED: RandomForestClassifier](#cat_rf)\n",
    "    - [EMBEDDED: Lasso.](#cat_lasso)\n",
    "4. [**Sequential feature selection.**](#wrapper_global)  I will skip the exhaustive and backward just for the sake of time.\n",
    "    - [Forward Feature Selection.](#forward)"
   ]
  },
  {
   "cell_type": "markdown",
   "metadata": {},
   "source": [
    "<a id='num_fea'></a>\n",
    "1. **Numerical Features**.\n",
    "\n",
    "[back top](#start)"
   ]
  },
  {
   "cell_type": "code",
   "execution_count": 5,
   "metadata": {},
   "outputs": [
    {
     "name": "stdout",
     "output_type": "stream",
     "text": [
      "temp_avg 1.0 temp_min\n",
      "temp_max 1.0 temp_avg\n",
      "windspeed 0.87 max_windspeed\n"
     ]
    },
    {
     "data": {
      "text/plain": [
       "['num_vehicles',\n",
       " 'vehicle_bicycle',\n",
       " 'vehicle_bus',\n",
       " 'vehicle_car',\n",
       " 'vehicle_misc_vehicle',\n",
       " 'vehicle_moped',\n",
       " 'vehicle_motorcycle',\n",
       " 'vehicle_personal motor vehicles',\n",
       " 'vehicle_taxi',\n",
       " 'vehicle_truck',\n",
       " 'vehicle_van',\n",
       " 'people_role_driver',\n",
       " 'people_role_passenger',\n",
       " 'people_role_pedestrian',\n",
       " 'age_driver',\n",
       " 'driver_u_25_count',\n",
       " 'gender_driver_male_count',\n",
       " 'gender_driver_female_count',\n",
       " 'license_seniority',\n",
       " 'temp_max',\n",
       " 'relative_humidity',\n",
       " 'precipitation',\n",
       " 'windspeed',\n",
       " 'wind_direction',\n",
       " 'pressure',\n",
       " 'solar_radiation',\n",
       " 'street_name_count',\n",
       " 'neighborhood_count']"
      ]
     },
     "execution_count": 5,
     "metadata": {},
     "output_type": "execute_result"
    }
   ],
   "source": [
    "correlations= abs(accidents[num_columns].corr())\n",
    "correlations=correlations.replace(1,0)\n",
    "for col in num_columns:\n",
    "    #print(correlations[col])\n",
    "    if correlations[col].max()>0.8:\n",
    "        print(col, round(correlations[col].max(),2),correlations[col].sort_values(ascending=False).index[0])\n",
    "        num_columns.remove(correlations[col].sort_values(ascending=False).index[0])\n",
    "num_columns"
   ]
  },
  {
   "cell_type": "code",
   "execution_count": 6,
   "metadata": {},
   "outputs": [],
   "source": [
    "#To avoid further problems when using ordinal encoder. I decided to go to a classic train_test split\n",
    "X_train_num, X_test_num, y_train, y_test=train_test_split(accidents[num_columns],accidents.target,test_size=0.1) "
   ]
  },
  {
   "cell_type": "markdown",
   "metadata": {},
   "source": [
    "<a id='num_vt'></a>\n",
    "1. **Numerical Features**.\n",
    "    - FILTER: Variance Threashold.\n",
    "   \n",
    "[back top](#start)"
   ]
  },
  {
   "cell_type": "code",
   "execution_count": 7,
   "metadata": {},
   "outputs": [
    {
     "data": {
      "text/plain": [
       "[]"
      ]
     },
     "execution_count": 7,
     "metadata": {},
     "output_type": "execute_result"
    }
   ],
   "source": [
    "vt=VarianceThreshold()\n",
    "vt.fit(X_train_num)\n",
    "[num_columns[col[0]] for col in enumerate(vt.get_support()) if  not col[1]]\n",
    " ##=======>>No changes"
   ]
  },
  {
   "cell_type": "markdown",
   "metadata": {},
   "source": [
    "<a id='anova'></a>\n",
    "1. **Numerical Features**.\n",
    "    - FILTER: ANOVA.\n",
    "   \n",
    "[back top](#start)"
   ]
  },
  {
   "cell_type": "code",
   "execution_count": 8,
   "metadata": {},
   "outputs": [
    {
     "data": {
      "image/png": "[encoded data removed]",
      "text/plain": [
       "<Figure size 640x480 with 1 Axes>"
      ]
     },
     "metadata": {},
     "output_type": "display_data"
    }
   ],
   "source": [
    "numerical_chosen=[]\n",
    "def select_features(X_train, y_train, X_test,score_func=f_classif):\n",
    "    # configure to select all features\n",
    "    fs = SelectKBest(score_func=score_func, k='all')\n",
    "    # learn relationship from training data\n",
    "    fs.fit(X_train, y_train)\n",
    "    # transform train input data\n",
    "    X_train_fs = fs.transform(X_train)\n",
    "    # transform test input data\n",
    "    X_test_fs = fs.transform(X_test)\n",
    "    return X_train_fs, X_test_fs, fs\n",
    " \n",
    "# feature selection\n",
    "X_train_fs, X_test_fs, fs = select_features(X_train_num, y_train, X_test_num)\n",
    "# what are scores for the features\n",
    "sorted_columns=sorted([x for x in zip(num_columns,fs.scores_)], key=lambda x: x[1],reverse=True)\n",
    "anova_sel=[col[0] for col in sorted_columns[:3]]\n",
    "numerical_chosen.extend(anova_sel)\n",
    "# for i in range(len(sorted_columns)):\n",
    "#     print(f'Feature {sorted_columns[i][0]}:{sorted_columns[i][1]}')\n",
    "# plot the scores\n",
    "cols=[a for a,b in sorted_columns]\n",
    "scores=[b for a,b in sorted_columns]\n",
    "plt.barh(cols[::-1], scores[::-1])\n",
    "plt.show()"
   ]
  },
  {
   "cell_type": "markdown",
   "metadata": {},
   "source": [
    "<a id='num_corr'></a>\n",
    "1. **Numerical Features**.\n",
    "    - FILTER: Pearson, Kendall and Spearman Correlations.\n",
    "   \n",
    "[back top](#start)"
   ]
  },
  {
   "cell_type": "code",
   "execution_count": 9,
   "metadata": {},
   "outputs": [
    {
     "name": "stdout",
     "output_type": "stream",
     "text": [
      "Pearson Selection:  \n",
      " ['people_role_pedestrian', 'vehicle_motorcycle', 'driver_u_25_count']\n",
      "Kendall Selection:  \n",
      " ['people_role_pedestrian', 'vehicle_motorcycle', 'num_vehicles']\n",
      "Spearman Selection:  \n",
      " ['people_role_pedestrian', 'vehicle_motorcycle', 'num_vehicles']\n"
     ]
    }
   ],
   "source": [
    "pearson_sel=list(abs(accidents[num_columns +['target']].corr()['target']).sort_values(ascending=False)[1:4].index)\n",
    "print('Pearson Selection: ','\\n',pearson_sel)\n",
    "numerical_chosen.extend(pearson_sel)\n",
    "kendall_sel=list(abs(accidents[num_columns +['target']].corr(method='kendall')['target']).sort_values(ascending=False)[1:4].index)\n",
    "numerical_chosen.extend(kendall_sel)\n",
    "print('Kendall Selection: ','\\n',kendall_sel)\n",
    "spearman_sel=list(abs(accidents[num_columns +['target']].corr(method='spearman')['target']).sort_values(ascending=False)[1:4].index)\n",
    "numerical_chosen.extend(spearman_sel)\n",
    "print('Spearman Selection: ','\\n',spearman_sel)"
   ]
  },
  {
   "cell_type": "markdown",
   "metadata": {},
   "source": [
    "<a id='inf_gain'></a>\n",
    "1. **Numerical Features**.\n",
    "    - FILTER: Information Gain.\n",
    "   \n",
    "[back top](#start)"
   ]
  },
  {
   "cell_type": "code",
   "execution_count": 10,
   "metadata": {},
   "outputs": [
    {
     "data": {
      "text/plain": [
       "['num_vehicles', 'people_role_driver', 'gender_driver_male_count']"
      ]
     },
     "execution_count": 10,
     "metadata": {},
     "output_type": "execute_result"
    }
   ],
   "source": [
    "importances=mutual_info_classif(X_train_num, y_train)\n",
    "info_gain_sel=list(pd.DataFrame(importances,columns=['InformationGain'],index=num_columns).sort_values('InformationGain',ascending=False).index[:3])\n",
    "numerical_chosen.extend(info_gain_sel)\n",
    "info_gain_sel"
   ]
  },
  {
   "cell_type": "markdown",
   "metadata": {},
   "source": [
    "<a id='num_rfe'></a>\n",
    "1. **Numerical Features**.\n",
    "    - WRAPPER: Recursive Feature Elimination.\n",
    "   \n",
    "[back top](#start)"
   ]
  },
  {
   "cell_type": "code",
   "execution_count": 11,
   "metadata": {},
   "outputs": [
    {
     "name": "stdout",
     "output_type": "stream",
     "text": [
      "Three Selected by RFE:  \n",
      " ['vehicle_bus', 'vehicle_motorcycle', 'people_role_pedestrian']\n"
     ]
    }
   ],
   "source": [
    "lr=LogisticRegression(max_iter=300)\n",
    "min_max_scaler = MinMaxScaler()\n",
    "X_train_minmax = min_max_scaler.fit_transform(X_train_num)\n",
    "X_test_minmax=min_max_scaler.transform(X_test_num)\n",
    "# for n_cols in range(1,X_train_num.shape[1]):\n",
    "\n",
    "#     rfe=RFE(lr,n_features_to_select=n_cols)\n",
    "#     rfe.fit(X_train_minmax,y_train)\n",
    "#     #print([num_columns[x[0]] for x in enumerate(rfe.ranking_) if x[1]==1])\n",
    "rfe=RFE(lr,n_features_to_select=3)\n",
    "rfe.fit(X_train_minmax,y_train)\n",
    "rfe_sel=[num_columns[x[0]] for x in enumerate(rfe.ranking_) if x[1]==1]\n",
    "numerical_chosen.extend(rfe_sel)\n",
    "print('Three Selected by RFE: ','\\n', rfe_sel)"
   ]
  },
  {
   "cell_type": "markdown",
   "metadata": {},
   "source": [
    "<a id='num_rf'></a>\n",
    "1. **Numerical Features**.\n",
    "    - EMBEDDED: Random Forest Classifier.\n",
    "   \n",
    "[back top](#start)"
   ]
  },
  {
   "cell_type": "code",
   "execution_count": 12,
   "metadata": {},
   "outputs": [
    {
     "name": "stdout",
     "output_type": "stream",
     "text": [
      "Three Selected by RandomForest:  \n",
      " ['num_vehicles', 'street_name_count', 'driver_u_25_count']\n"
     ]
    }
   ],
   "source": [
    "rf=RandomForestClassifier(n_estimators=100, random_state=2024)\n",
    "rf.fit(X_train_num,y_train)\n",
    "rf_sel=sorted([x[0] for x in zip(num_columns,rf.feature_importances_)],key=lambda x:x[1],reverse=True)[:3]\n",
    "numerical_chosen.extend(rf_sel)\n",
    "print('Three Selected by RandomForest: ','\\n', rf_sel)"
   ]
  },
  {
   "cell_type": "markdown",
   "metadata": {},
   "source": [
    "<a id='num_lasso'></a>\n",
    "1. **Numerical Features**.\n",
    "    - EMBEDDED: Lasso.\n",
    "   \n",
    "[back top](#start)"
   ]
  },
  {
   "cell_type": "code",
   "execution_count": 13,
   "metadata": {},
   "outputs": [
    {
     "name": "stdout",
     "output_type": "stream",
     "text": [
      "YEAH\n",
      "3 \n",
      " ['pressure', 'solar_radiation', 'street_name_count']\n",
      "Three Selected by Lasso:  \n",
      " ['pressure', 'solar_radiation', 'street_name_count']\n"
     ]
    }
   ],
   "source": [
    "# Lasso\n",
    "for c in np.linspace(0.001,0.0001,4):\n",
    "    #print(c)\n",
    "    lr=LogisticRegression(C=c,penalty='l1',solver='liblinear').fit(X_train_num,y_train)\n",
    "    selector = SelectFromModel(estimator=lr,prefit=True)\n",
    "    num_features=len([x[0] for x in zip(num_columns,selector.get_support()) if x[1]])\n",
    "    #print(num_features)\n",
    "    # if num_features == 6:\n",
    "    #     print(num_features,'\\n',[x[0] for x in zip(num_columns,selector.get_support()) if x[1]])\n",
    "    if num_features <=3:\n",
    "        print('YEAH')\n",
    "        print(num_features,'\\n',[x[0] for x in zip(num_columns,selector.get_support()) if x[1]])\n",
    "        lasso_sel=[x[0] for x in zip(num_columns,selector.get_support()) if x[1]]\n",
    "        break\n",
    "numerical_chosen.extend(lasso_sel)\n",
    "print('Three Selected by Lasso: ','\\n', lasso_sel)"
   ]
  },
  {
   "cell_type": "code",
   "execution_count": 14,
   "metadata": {},
   "outputs": [],
   "source": [
    "##Numerical selected\n",
    "#numerical_chosen=Counter(numerical_chosen)\n",
    "# model_dict={}\n",
    "# model_dict['numerical_features']=numerical_chosen\n",
    "# # with open('./data/model_charac.pkl', 'wb') as f:\n",
    "# #     pickle.dump(model_dict, f, pickle.HIGHEST_PROTOCOL)\n",
    "# model_dict"
   ]
  },
  {
   "cell_type": "markdown",
   "metadata": {},
   "source": [
    "<a id='cat_fea'></a>\n",
    "2. **Categorical Features**.\n",
    "\n",
    "[back top](#start)"
   ]
  },
  {
   "cell_type": "code",
   "execution_count": 15,
   "metadata": {},
   "outputs": [],
   "source": [
    "X_cat=accidents[cat_columns].copy()\n",
    "y=accidents.target\n",
    "X_train_cat, X_test_cat, y_train, y_test=train_test_split(accidents[cat_columns],accidents.target,test_size=0.1) "
   ]
  },
  {
   "cell_type": "markdown",
   "metadata": {},
   "source": [
    "<a id='cat_vt'></a>\n",
    "1. **Categorical Features**.\n",
    "    - FILTER: Variance Threashold.\n",
    "   \n",
    "[back top](#start)"
   ]
  },
  {
   "cell_type": "code",
   "execution_count": 16,
   "metadata": {},
   "outputs": [],
   "source": [
    "def prepare_inputs_cat(X):\n",
    "    oe = OrdinalEncoder()\n",
    "    oe.fit(X)\n",
    "    X_enc = oe.transform(X)\n",
    "    return X_enc\n",
    "X_cat_enc=prepare_inputs_cat(X_cat)"
   ]
  },
  {
   "cell_type": "code",
   "execution_count": 17,
   "metadata": {},
   "outputs": [
    {
     "data": {
      "text/plain": [
       "[]"
      ]
     },
     "execution_count": 17,
     "metadata": {},
     "output_type": "execute_result"
    }
   ],
   "source": [
    "vt=VarianceThreshold()\n",
    "vt.fit(X_cat_enc)\n",
    "[num_columns[col[0]] for col in enumerate(vt.get_support()) if  not col[1]]\n",
    " ##=======>>No changes"
   ]
  },
  {
   "cell_type": "markdown",
   "metadata": {},
   "source": [
    "<a id='chi_sq'></a>\n",
    "\n",
    "2. **Categorical Features**.\n",
    "    - FILTER: Chi Square.\n",
    "   \n",
    "[back top](#start)"
   ]
  },
  {
   "cell_type": "code",
   "execution_count": 18,
   "metadata": {},
   "outputs": [
    {
     "data": {
      "image/png": "[encoded data removed]",
      "text/plain": [
       "<Figure size 640x480 with 1 Axes>"
      ]
     },
     "metadata": {},
     "output_type": "display_data"
    }
   ],
   "source": [
    "categorical_chosen=[]\n",
    "def select_features_cat(X, y,score_func=f_classif):\n",
    "    # configure to select all features\n",
    "    fs = SelectKBest(score_func=score_func, k='all')\n",
    "    # learn relationship from training data\n",
    "    fs.fit(X, y)\n",
    "    # transform train input data\n",
    "    X_fs = fs.transform(X)\n",
    "    return X_fs, fs\n",
    " \n",
    "# feature selection\n",
    "X_fs, fs = select_features_cat(X_cat_enc, y,chi2)\n",
    "# what are scores for the features\n",
    "sorted_columns=sorted([x for x in zip(cat_columns,fs.scores_)], key=lambda x: x[1],reverse=True)\n",
    "chi2_sel=[col[0] for col in sorted_columns[:3]]\n",
    "categorical_chosen.extend(chi2_sel)\n",
    "# for i in range(len(sorted_columns)):\n",
    "#     print(f'Feature {sorted_columns[i][0]}:{sorted_columns[i][1]}')\n",
    "# plot the scores\n",
    "cols=[a for a,b in sorted_columns]\n",
    "scores=[b for a,b in sorted_columns]\n",
    "plt.barh(cols[::-1], scores[::-1])\n",
    "plt.show()"
   ]
  },
  {
   "cell_type": "markdown",
   "metadata": {},
   "source": [
    "<a id='cat_corr'></a>\n",
    "\n",
    "2. **Categorical Features**.\n",
    "    - FILTER: Cramers V, Theils U Correlations.\n",
    "   \n",
    "[back top](#start)"
   ]
  },
  {
   "cell_type": "code",
   "execution_count": 19,
   "metadata": {},
   "outputs": [
    {
     "name": "stdout",
     "output_type": "stream",
     "text": [
      "Selected by Cramers V:  \n",
      " ['accident_type', 'ped_cause', 'cause']\n",
      "Selected by Theils U:  \n",
      " ['cause', 'accident_type', 'ped_cause']\n"
     ]
    }
   ],
   "source": [
    "cramers, theils = [],[]\n",
    "for col in cat_columns:\n",
    "    correlation_c=fb3.cramers_corrected_stat(accidents[col],accidents.target)\n",
    "    correlation_u=fb3.theils_u(accidents[col],accidents.target)\n",
    "    #print(col, 'cramers', correlation_c)\n",
    "    cramers.append((col,correlation_c))\n",
    "    #print(col,'theils', correlation_u)\n",
    "    theils.append((col,correlation_u))\n",
    "cram_sel=[col[0] for col in sorted(cramers,key=lambda x:x[1],reverse=True)[0:3]]\n",
    "categorical_chosen.extend(cram_sel)\n",
    "print('Selected by Cramers V: ', '\\n',cram_sel)\n",
    "thei_sel=[col[0] for col in sorted(theils,key=lambda x:x[1],reverse=True)[:3]]\n",
    "categorical_chosen.extend(thei_sel)\n",
    "print('Selected by Theils U: ', '\\n',thei_sel)"
   ]
  },
  {
   "cell_type": "markdown",
   "metadata": {},
   "source": [
    "<a id='mut_info'></a>\n",
    "\n",
    "2. **Categorical Features**.\n",
    "    - FILTER: Mutual Information/Information Gain.\n",
    "   \n",
    "[back top](#start)"
   ]
  },
  {
   "cell_type": "code",
   "execution_count": 20,
   "metadata": {},
   "outputs": [
    {
     "data": {
      "image/png": "[encoded data removed]",
      "text/plain": [
       "<Figure size 640x480 with 1 Axes>"
      ]
     },
     "metadata": {},
     "output_type": "display_data"
    }
   ],
   "source": [
    "# feature selection\n",
    "X_fs, fs = select_features_cat(X_cat_enc, y,mutual_info_classif)\n",
    "# what are scores for the features\n",
    "sorted_columns=sorted([x for x in zip(cat_columns,fs.scores_)], key=lambda x: x[1],reverse=True)\n",
    "mut_sel=[col[0] for col in sorted_columns[:3]]\n",
    "categorical_chosen.extend(mut_sel)\n",
    "# for i in range(len(sorted_columns)):\n",
    "#     print(f'Feature {sorted_columns[i][0]}:{sorted_columns[i][1]}')\n",
    "# plot the scores\n",
    "cols=[a for a,b in sorted_columns]\n",
    "scores=[b for a,b in sorted_columns]\n",
    "plt.barh(cols[::-1], scores[::-1])\n",
    "plt.show()"
   ]
  },
  {
   "cell_type": "markdown",
   "metadata": {},
   "source": [
    "<a id='cat_rfe'></a>\n",
    "\n",
    "2. **Categorical Features**.\n",
    "    - WRAPPER: Recursive Feature Elimination.\n",
    "   \n",
    "[back top](#start)"
   ]
  },
  {
   "cell_type": "code",
   "execution_count": 21,
   "metadata": {},
   "outputs": [
    {
     "name": "stdout",
     "output_type": "stream",
     "text": [
      "Three Selected by RFE:  \n",
      " ['cause', 'age_bins', 'accident_type']\n"
     ]
    }
   ],
   "source": [
    "lr=LogisticRegression(max_iter=500, C=0.001)\n",
    "# min_max_scaler = MinMaxScaler()\n",
    "# X_cat_minmax = min_max_scaler.fit_transform(X_cat_enc)\n",
    "#X_test_minmax=min_max_scaler.transform(X_test_num)\n",
    "# for n_cols in range(1,X_cat_enc.shape[1]):\n",
    "\n",
    "#     rfe=RFE(lr,n_features_to_select=n_cols)\n",
    "#     rfe.fit(X_cat_enc,y)\n",
    "#     #print([num_columns[x[0]] for x in enumerate(rfe.ranking_) if x[1]==1])\\\n",
    "#     if n_cols%10==0:\n",
    "#         print(n_cols)\n",
    "rfe=RFE(lr,n_features_to_select=3)\n",
    "rfe.fit(X_cat_enc,y)\n",
    "rfe_sel=[cat_columns[x[0]] for x in enumerate(rfe.ranking_) if x[1]==1]\n",
    "categorical_chosen.extend(rfe_sel)\n",
    "print('Three Selected by RFE: ','\\n', rfe_sel)"
   ]
  },
  {
   "cell_type": "markdown",
   "metadata": {},
   "source": [
    "<a id='cat_rf'></a>\n",
    "\n",
    "2. **Categorical Features**.\n",
    "    - EMBEDDED: Random Forest Classifier.\n",
    "   \n",
    "[back top](#start)"
   ]
  },
  {
   "cell_type": "code",
   "execution_count": 22,
   "metadata": {},
   "outputs": [
    {
     "name": "stdout",
     "output_type": "stream",
     "text": [
      "Three Selected by RandomForest:  \n",
      " ['street_name_bins', 'is_holiday', 'crossing_street']\n"
     ]
    }
   ],
   "source": [
    "rf=RandomForestClassifier(n_estimators=100, random_state=2024)\n",
    "rf.fit(X_cat_enc,y)\n",
    "rf_sel=sorted([x[0] for x in zip(cat_columns,rf.feature_importances_)],key=lambda x:x[1],reverse=True)[:3]\n",
    "categorical_chosen.extend(rf_sel)\n",
    "print('Three Selected by RandomForest: ','\\n', rf_sel)"
   ]
  },
  {
   "cell_type": "markdown",
   "metadata": {},
   "source": [
    "<a id='cat_lasso'></a>\n",
    "\n",
    "2. **Categorical Features**.\n",
    "    - EMBEDDED: Lasso.\n",
    "   \n",
    "[back top](#start)"
   ]
  },
  {
   "cell_type": "code",
   "execution_count": 23,
   "metadata": {},
   "outputs": [
    {
     "name": "stdout",
     "output_type": "stream",
     "text": [
      "10\n",
      "10\n",
      "8\n",
      "3\n",
      "YEAH\n",
      "3 \n",
      " ['neighborhood', 'day', 'hour']\n",
      "Three Selected by Lasso:  \n",
      " ['neighborhood', 'day', 'hour']\n"
     ]
    }
   ],
   "source": [
    "# Lasso\n",
    "for c in np.linspace(0.001,0.00001,4):\n",
    "    #print(c)\n",
    "    lr=LogisticRegression(C=c,penalty='l1',solver='liblinear').fit(X_cat_enc,y)\n",
    "    selector = SelectFromModel(estimator=lr,prefit=True)\n",
    "    num_features=len([x[0] for x in zip(cat_columns,selector.get_support()) if x[1]])\n",
    "    print(num_features)\n",
    "    # if num_features == 6:\n",
    "    #     print(num_features,'\\n',[x[0] for x in zip(cat_columns,selector.get_support()) if x[1]])\n",
    "    if num_features <=3:\n",
    "        print('YEAH')\n",
    "        print(num_features,'\\n',[x[0] for x in zip(cat_columns,selector.get_support()) if x[1]])\n",
    "        lasso_sel=[x[0] for x in zip(cat_columns,selector.get_support()) if x[1]]\n",
    "        break\n",
    "categorical_chosen.extend(lasso_sel)\n",
    "print('Three Selected by Lasso: ','\\n', lasso_sel)"
   ]
  },
  {
   "cell_type": "code",
   "execution_count": 24,
   "metadata": {},
   "outputs": [],
   "source": [
    "##Categorical selected\n",
    "#categorical_chosen=Counter(categorical_chosen)\n",
    "#model_dict['categorical_features']=categorical_chosen"
   ]
  },
  {
   "cell_type": "markdown",
   "metadata": {},
   "source": [
    "<a id='wrapper_global'></a>\n",
    "4. **Sequential feature selection**.\n",
    "   \n",
    "[back top](#start)"
   ]
  },
  {
   "cell_type": "code",
   "execution_count": 25,
   "metadata": {},
   "outputs": [],
   "source": [
    "X=accidents[cat_columns+num_columns]\n",
    "y=accidents.target\n",
    "\n",
    "# I am going to redribute the features and I will treat all categoriocal features  that are int or float as a numerical\n",
    "\n",
    "ambidext_columns= accidents[cat_columns].select_dtypes(include='number').columns.to_list()\n",
    "numeric_features = num_columns+ ambidext_columns\n",
    "numeric_features\n",
    "numeric_transformer = Pipeline(\n",
    "    steps=[(\"imputer\", SimpleImputer(strategy=\"median\")), (\"scaler\", StandardScaler())]\n",
    ")\n",
    "\n",
    "categorical_features = [col for col in cat_columns if col not in ambidext_columns]\n",
    "#categorical_features.remove('neighborhood')\n",
    "\n",
    "categorical_transformer = Pipeline(\n",
    "    steps=[\n",
    "        (\"encoder\", OneHotEncoder(handle_unknown=\"ignore\"))\n",
    "    ]\n",
    ")\n",
    "preprocessor = ColumnTransformer(\n",
    "    transformers=[\n",
    "        (\"num\", numeric_transformer, numeric_features),\n",
    "        (\"cat\", categorical_transformer, categorical_features),\n",
    "    ]\n",
    ")\n"
   ]
  },
  {
   "cell_type": "markdown",
   "metadata": {},
   "source": [
    "<a id='forward'></a>\n",
    "    - Sequential Feature Selection:\n",
    "    \n",
    "        Forward.\n",
    "   \n",
    "[back top](#start)"
   ]
  },
  {
   "cell_type": "code",
   "execution_count": 26,
   "metadata": {},
   "outputs": [
    {
     "name": "stdout",
     "output_type": "stream",
     "text": [
      "Selected features:  ['num__vehicle_bus' 'num__vehicle_motorcycle'\n",
      " 'num__people_role_pedestrian' 'num__gender_driver_male_count'\n",
      " 'num__windspeed' 'num__street_name_count'\n",
      " 'cat__ped_cause_Crossing outside ped crossing' 'cat__ped_cause_unknown'\n",
      " 'cat__cause_Speeding' 'cat__accident_type_frontal']\n"
     ]
    },
    {
     "data": {
      "text/plain": [
       "545.9825191497803"
      ]
     },
     "execution_count": 26,
     "metadata": {},
     "output_type": "execute_result"
    }
   ],
   "source": [
    "forward=SFS(LogisticRegression(max_iter=500),\n",
    "       n_features_to_select=10,\n",
    "       scoring='recall')\n",
    "\n",
    "st=time.time()\n",
    "clf = Pipeline(\n",
    "    steps=[(\"preprocessor\", preprocessor), (\"classifier\", forward)]\n",
    ")\n",
    "\n",
    "#X_train, X_test, y_train,et-st y_test = train_test_split(X, y, test_size=0.2, random_state=0)\n",
    "\n",
    "clf.fit(X, y)\n",
    "et=time.time()\n",
    "forward_features=clf.get_feature_names_out()\n",
    "\n",
    "print(\"Selected features: \", forward_features)\n",
    "et-st"
   ]
  },
  {
   "cell_type": "code",
   "execution_count": 36,
   "metadata": {},
   "outputs": [
    {
     "data": {
      "text/plain": [
       "['vehicle_motorcycle',\n",
       " 'people_role_pedestrian',\n",
       " 'street_name_count',\n",
       " 'vehicle_bus',\n",
       " 'gender_driver_male_count',\n",
       " 'windspeed']"
      ]
     },
     "execution_count": 36,
     "metadata": {},
     "output_type": "execute_result"
    }
   ],
   "source": [
    "list(set([col[5:] for col in forward_features if col.startswith('num')]))"
   ]
  },
  {
   "cell_type": "code",
   "execution_count": 37,
   "metadata": {},
   "outputs": [],
   "source": [
    "##Do not run again\n",
    "numerical_chosen.extend(list(set([col[5:] for col in forward_features if col.startswith('num')])))\n",
    "categorical_chosen.extend(list(set([col[5:].rpartition('_')[0] for col in forward_features if col.startswith('cat')])))"
   ]
  },
  {
   "cell_type": "code",
   "execution_count": 38,
   "metadata": {},
   "outputs": [],
   "source": [
    "model_dict={}\n",
    "model_dict['numerical_features']=Counter(numerical_chosen)\n",
    "model_dict['categorical_features']=Counter(categorical_chosen)\n",
    "##Categorical selected\n",
    "with open('./data/model_charac.pkl', 'wb') as f:\n",
    "    pickle.dump(model_dict, f, pickle.HIGHEST_PROTOCOL)"
   ]
  }
 ],
 "metadata": {
  "kernelspec": {
   "display_name": "Python 3 (ipykernel)",
   "language": "python",
   "name": "python3"
  },
  "language_info": {
   "codemirror_mode": {
    "name": "ipython",
    "version": 3
   },
   "file_extension": ".py",
   "mimetype": "text/x-python",
   "name": "python",
   "nbconvert_exporter": "python",
   "pygments_lexer": "ipython3",
   "version": "3.11.8"
  }
 },
 "nbformat": 4,
 "nbformat_minor": 4
}
