{
 "cells": [
  {
   "cell_type": "code",
   "execution_count": null,
   "id": "3f81585c-d712-4a65-949d-f343e5aba664",
   "metadata": {},
   "outputs": [],
   "source": [
    "#cleaning up shapefiles\n",
    "#NEIGHBORHOOD\n",
    "acc=pd.read_csv('./data/accidents_only2023.csv')\n",
    "outfilepath=\"/Users/fcbnyc/mystuff/repos/BarcelonaAccidents/BarcelonaAccidents/tableau/shapefiles_barrio_barcelona.shp\"\n",
    "gdf = gpd.read_file(outfilepath)\n",
    "gdf['names']= gdf['n_barri']\n",
    "gdf['n_barri']=gdf['n_barri'].apply(lambda x: difflib.get_close_matches(x, acc['neighborhood'])[0])\n",
    "gdf.to_file(outfilepath,index=False)\n",
    "#DISTRICTS\n",
    "# outfilepath=\"/Users/fcbnyc/mystuff/repos/BarcelonaAccidents/BarcelonaAccidents/tableau/shapefiles_barrio_barcelona.shp\"\n",
    "# gdf = gpd.read_file(outfilepath)\n",
    "# gdf['names']= gdf['n_barri']\n",
    "# gdf['n_barri']=gdf['n_barri'].apply(lambda x: difflib.get_close_matches(x, acc['neighborhood'])[0])\n",
    "# gdf.to_file(outfilepath,index=False)"
   ]
  }
 ],
 "metadata": {
  "kernelspec": {
   "display_name": "Python 3 (ipykernel)",
   "language": "python",
   "name": "python3"
  },
  "language_info": {
   "codemirror_mode": {
    "name": "ipython",
    "version": 3
   },
   "file_extension": ".py",
   "mimetype": "text/x-python",
   "name": "python",
   "nbconvert_exporter": "python",
   "pygments_lexer": "ipython3",
   "version": "3.11.8"
  }
 },
 "nbformat": 4,
 "nbformat_minor": 5
}
